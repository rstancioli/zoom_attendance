{
 "cells": [
  {
   "cell_type": "code",
   "execution_count": null,
   "id": "arbitrary-underground",
   "metadata": {},
   "outputs": [],
   "source": [
    "import pandas as pd\n",
    "import os\n",
    "import difflib as dfl"
   ]
  },
  {
   "cell_type": "code",
   "execution_count": null,
   "id": "metric-committee",
   "metadata": {},
   "outputs": [],
   "source": [
    "section = '04'\n",
    "roster = pd.read_csv('roster/roster{}.csv'.format(section), header=0, index_col=False, names=['1','2','3','4','5','6'])"
   ]
  },
  {
   "cell_type": "code",
   "execution_count": null,
   "id": "structural-wrong",
   "metadata": {},
   "outputs": [],
   "source": [
    "names = roster['1'].str.split(pat=', ', expand=True)\n",
    "names_cat = names.apply(lambda x: x[1] + ' ' + x[0], axis=1)\n",
    "print(names_cat)"
   ]
  },
  {
   "cell_type": "code",
   "execution_count": null,
   "id": "horizontal-antarctica",
   "metadata": {},
   "outputs": [],
   "source": [
    "files = os.listdir('reports/{}/'.format(section))\n",
    "print(files)"
   ]
  },
  {
   "cell_type": "code",
   "execution_count": null,
   "id": "ebf36286",
   "metadata": {},
   "outputs": [],
   "source": [
    "def check_attendance(names_cat, dl):\n",
    "    dl_names = dl['Name (Original Name)'].str.strip()\n",
    "\n",
    "    close_matches = names_cat.apply(lambda x: dfl.get_close_matches(x, dl_names, n=3, cutoff=0.7))\n",
    "    new_bool_series = close_matches.apply(lambda x: not bool(x))\n",
    "    new_series = new_bool_series.apply(lambda x: int(x))\n",
    "\n",
    "    print('Absent students:')\n",
    "    print(names_cat[new_bool_series], '\\n')\n",
    "\n",
    "    return new_series"
   ]
  },
  {
   "cell_type": "code",
   "execution_count": null,
   "id": "stopped-mistake",
   "metadata": {},
   "outputs": [],
   "source": [
    "df = pd.DataFrame(names_cat, columns=['name'])\n",
    "for file in files:\n",
    "    print(file)\n",
    "    dl = pd.read_csv('reports/{}/{}'.format(section,file))\n",
    "    new_series = check_attendance(names_cat, dl)\n",
    "    df[file] = new_series\n"
   ]
  },
  {
   "cell_type": "code",
   "execution_count": null,
   "id": "f455a853",
   "metadata": {},
   "outputs": [],
   "source": [
    "sum_series = df.sum(axis=1, numeric_only=True)\n",
    "df['# of absences'] = sum_series"
   ]
  },
  {
   "cell_type": "code",
   "execution_count": null,
   "id": "mighty-workstation",
   "metadata": {},
   "outputs": [],
   "source": [
    "df"
   ]
  },
  {
   "cell_type": "code",
   "execution_count": null,
   "id": "fd5c8c52",
   "metadata": {},
   "outputs": [],
   "source": []
  }
 ],
 "metadata": {
  "kernelspec": {
   "display_name": "Python 3",
   "language": "python",
   "name": "python3"
  },
  "language_info": {
   "codemirror_mode": {
    "name": "ipython",
    "version": 3
   },
   "file_extension": ".py",
   "mimetype": "text/x-python",
   "name": "python",
   "nbconvert_exporter": "python",
   "pygments_lexer": "ipython3",
   "version": "3.8.12"
  }
 },
 "nbformat": 4,
 "nbformat_minor": 5
}
