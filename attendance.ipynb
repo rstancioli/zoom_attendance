{
 "cells": [
  {
   "cell_type": "code",
   "execution_count": 264,
   "id": "arbitrary-underground",
   "metadata": {},
   "outputs": [],
   "source": [
    "import pandas as pd\n",
    "import os"
   ]
  },
  {
   "cell_type": "code",
   "execution_count": 265,
   "id": "metric-committee",
   "metadata": {},
   "outputs": [],
   "source": [
    "roster = pd.read_csv('roster.csv', header=0, index_col=False, names=['1','2','3','4','5','6'])"
   ]
  },
  {
   "cell_type": "code",
   "execution_count": 266,
   "id": "structural-wrong",
   "metadata": {},
   "outputs": [],
   "source": [
    "roster.pop('1')\n",
    "names = roster['2'].str.split(pat=', ', expand=True)\n",
    "names.iloc[15][1]='Li'"
   ]
  },
  {
   "cell_type": "code",
   "execution_count": 267,
   "id": "continued-professional",
   "metadata": {},
   "outputs": [
    {
     "name": "stdout",
     "output_type": "stream",
     "text": [
      "            0          1\n",
      "0       Afroz      Sasha\n",
      "1         Cho     Amelia\n",
      "2      Galvan   Samantha\n",
      "3      Girmai      Milca\n",
      "4       Gross    Frances\n",
      "5     Hellman      Alexa\n",
      "6       Hypes    Madison\n",
      "7      Ibarra  Elizabeth\n",
      "8         Joa     Delton\n",
      "9      Kvitek      Emily\n",
      "10         Le      Kenny\n",
      "11        Lee   Michelle\n",
      "12    Murillo     Lezley\n",
      "13     Nguyen      Simon\n",
      "14     Nguyen     Vivian\n",
      "15    Peixoto         Li\n",
      "16    Ramirez     Alyssa\n",
      "17    Resngit      Chloe\n",
      "18       Romo     Fatima\n",
      "19      Rutan     Amelia\n",
      "20     Sharma   Anoushka\n",
      "21  Shiraishi     Hikaru\n",
      "22     Thylin    Allyson\n",
      "23        Vij      Mehar\n"
     ]
    }
   ],
   "source": [
    "print(names)"
   ]
  },
  {
   "cell_type": "code",
   "execution_count": 268,
   "id": "horizontal-antarctica",
   "metadata": {},
   "outputs": [
    {
     "name": "stdout",
     "output_type": "stream",
     "text": [
      "['14.csv', '15.csv', '16.csv', '17.csv', '18.csv', '1.csv', '3.csv', '13.csv', '13 copy.csv']\n"
     ]
    }
   ],
   "source": [
    "files = os.listdir('reports/')\n",
    "print(files)"
   ]
  },
  {
   "cell_type": "code",
   "execution_count": 269,
   "id": "swiss-questionnaire",
   "metadata": {
    "scrolled": false
   },
   "outputs": [],
   "source": [
    "def check_attendance(names, dl):\n",
    "    dl_names = dl['Name (Original Name)'].str.strip()\n",
    "    dl_names = dl_names.str.split(expand=True)\n",
    "\n",
    "    mask_total = list(False for i in range(names.shape[0]))\n",
    "    mask_total = pd.Series(mask_total).array\n",
    "\n",
    "    for index, dl_name in dl_names.iterrows():\n",
    "        mask1 = (names[0]==dl_name[1])\n",
    "        mask2 = (names[0]==dl_name[2])\n",
    "        mask0 = (names[1]==dl_name[0])\n",
    "        mask_total = mask_total | (mask0 & (mask1 | mask2))\n",
    "  \n",
    "print(names[~mask_total], '\\n')"
   ]
  },
  {
   "cell_type": "code",
   "execution_count": 270,
   "id": "stopped-mistake",
   "metadata": {},
   "outputs": [
    {
     "name": "stdout",
     "output_type": "stream",
     "text": [
      "14.csv\n",
      "Empty DataFrame\n",
      "Columns: [0, 1]\n",
      "Index: [] \n",
      "\n",
      "15.csv\n",
      "Empty DataFrame\n",
      "Columns: [0, 1]\n",
      "Index: [] \n",
      "\n",
      "16.csv\n",
      "         0         1\n",
      "20  Sharma  Anoushka \n",
      "\n",
      "17.csv\n",
      "Empty DataFrame\n",
      "Columns: [0, 1]\n",
      "Index: [] \n",
      "\n",
      "18.csv\n",
      "        0      1\n",
      "3  Girmai  Milca \n",
      "\n",
      "1.csv\n",
      "            0         1\n",
      "11        Lee  Michelle\n",
      "12    Murillo    Lezley\n",
      "21  Shiraishi    Hikaru\n",
      "23        Vij     Mehar \n",
      "\n",
      "3.csv\n",
      "      0         1\n",
      "11  Lee  Michelle \n",
      "\n",
      "13.csv\n",
      "     0       1\n",
      "1  Cho  Amelia \n",
      "\n",
      "13 copy.csv\n",
      "        0       1\n",
      "19  Rutan  Amelia \n",
      "\n"
     ]
    }
   ],
   "source": [
    "for file in files:\n",
    "    print(file)\n",
    "    dl = pd.read_csv('reports/{}'.format(file))\n",
    "    check_attendance(names, dl)"
   ]
  },
  {
   "cell_type": "code",
   "execution_count": null,
   "id": "mighty-workstation",
   "metadata": {},
   "outputs": [],
   "source": []
  }
 ],
 "metadata": {
  "kernelspec": {
   "display_name": "Python 3",
   "language": "python",
   "name": "python3"
  },
  "language_info": {
   "codemirror_mode": {
    "name": "ipython",
    "version": 3
   },
   "file_extension": ".py",
   "mimetype": "text/x-python",
   "name": "python",
   "nbconvert_exporter": "python",
   "pygments_lexer": "ipython3",
   "version": "3.8.6"
  }
 },
 "nbformat": 4,
 "nbformat_minor": 5
}
